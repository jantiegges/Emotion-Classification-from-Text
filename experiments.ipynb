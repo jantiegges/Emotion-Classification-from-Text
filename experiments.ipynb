{
 "cells": [
  {
   "cell_type": "code",
   "execution_count": 36,
   "metadata": {},
   "outputs": [],
   "source": [
    "import itertools\n",
    "import pandas as pd\n",
    "import numpy as np\n",
    "import seaborn as sns\n",
    "import matplotlib.pyplot as plt\n",
    "import pickle\n",
    "from sklearn.metrics import confusion_matrix\n",
    "from sklearn.metrics import classification_report\n",
    "\n",
    "from utils.data_preparation import naive_bayes_preprocessing\n",
    "from models.naive_bayes import NaiveBayes"
   ]
  },
  {
   "cell_type": "markdown",
   "metadata": {},
   "source": [
    "# Naive Bayes"
   ]
  },
  {
   "cell_type": "code",
   "execution_count": 37,
   "metadata": {},
   "outputs": [],
   "source": [
    "processed_data, _ = naive_bayes_preprocessing(\n",
    "    remove_stopwords=True, \n",
    "    use_bigrams=False\n",
    ")\n",
    "X_train, y_train = processed_data['train']\n",
    "X_val, y_val = processed_data['validation']\n",
    "X_test, y_test = processed_data['test']"
   ]
  },
  {
   "cell_type": "code",
   "execution_count": 38,
   "metadata": {},
   "outputs": [],
   "source": [
    "nb = NaiveBayes(\n",
    "    alpha=1.0,\n",
    "    fit_prior=True,\n",
    ")\n",
    "nb.fit(X_train, y_train)\n",
    "predictions = nb.predict(X_test)\n",
    "acc = nb.evaluate_acc(y_test, predictions)"
   ]
  },
  {
   "cell_type": "code",
   "execution_count": 39,
   "metadata": {},
   "outputs": [
    {
     "name": "stdout",
     "output_type": "stream",
     "text": [
      "Accuracy of Naive Bayes model: 0.7945\n"
     ]
    }
   ],
   "source": [
    "print(f\"Accuracy of Naive Bayes model: {acc:.4f}\")"
   ]
  },
  {
   "cell_type": "markdown",
   "metadata": {},
   "source": [
    "## Grid Search"
   ]
  },
  {
   "cell_type": "code",
   "execution_count": 40,
   "metadata": {},
   "outputs": [
    {
     "name": "stdout",
     "output_type": "stream",
     "text": [
      "   alpha  fit_prior  use_bigrams  remove_stopwords  val_accuracy\n",
      "0    0.2      False         True              True        0.8355\n",
      "1    0.5      False        False              True        0.8265\n",
      "2    1.0      False        False              True        0.8265\n",
      "3    0.1      False         True              True        0.8250\n",
      "4    0.2       True         True              True        0.8215\n"
     ]
    }
   ],
   "source": [
    "with open('out/nb_grid_search_results.pkl', 'rb') as handle:\n",
    "    grid_search_results = pickle.load(handle)\n",
    "print(grid_search_results.head())"
   ]
  },
  {
   "cell_type": "markdown",
   "metadata": {},
   "source": [
    "## Results"
   ]
  },
  {
   "cell_type": "code",
   "execution_count": 41,
   "metadata": {},
   "outputs": [
    {
     "name": "stdout",
     "output_type": "stream",
     "text": [
      "Best params:\n",
      "alpha                  0.2\n",
      "fit_prior            False\n",
      "use_bigrams           True\n",
      "remove_stopwords      True\n",
      "val_accuracy        0.8355\n",
      "Name: 0, dtype: object\n",
      "Test accuracy of Naive Bayes model: 0.8390\n",
      "              precision    recall  f1-score   support\n",
      "\n",
      "           0       0.84      0.92      0.88       581\n",
      "           1       0.86      0.89      0.88       695\n",
      "           2       0.74      0.65      0.69       159\n",
      "           3       0.87      0.77      0.82       275\n",
      "           4       0.82      0.80      0.81       224\n",
      "           5       0.79      0.41      0.54        66\n",
      "\n",
      "    accuracy                           0.84      2000\n",
      "   macro avg       0.82      0.74      0.77      2000\n",
      "weighted avg       0.84      0.84      0.83      2000\n",
      "\n"
     ]
    },
    {
     "data": {
      "image/png": "[encoded data removed]",
      "text/plain": [
       "<Figure size 640x480 with 1 Axes>"
      ]
     },
     "metadata": {},
     "output_type": "display_data"
    }
   ],
   "source": [
    "# take params from best model\n",
    "best_params = grid_search_results.iloc[0]\n",
    "print(f\"Best params:\\n{best_params}\")\n",
    "\n",
    "processed_data, vectorizer = naive_bayes_preprocessing(\n",
    "    remove_stopwords=best_params['remove_stopwords'], \n",
    "    use_bigrams=best_params['use_bigrams']\n",
    ")\n",
    "X_train, y_train = processed_data['train']\n",
    "X_test, y_test = processed_data['test']\n",
    "\n",
    "nb = NaiveBayes(\n",
    "    alpha=best_params['alpha'],\n",
    "    fit_prior=best_params['fit_prior'],\n",
    ")\n",
    "nb.fit(X_train, y_train)\n",
    "predictions = nb.predict(X_test)\n",
    "test_acc = nb.evaluate_acc(y_test, predictions)\n",
    "print(f\"Test accuracy of Naive Bayes model: {test_acc:.4f}\")\n",
    "\n",
    "print(classification_report(y_test, predictions))\n",
    "cm = confusion_matrix(y_test, predictions)\n",
    "sns.heatmap(cm, annot=True, fmt='d', cbar=False)\n",
    "plt.xlabel('Predicted')\n",
    "plt.ylabel('Actual')\n",
    "plt.show()"
   ]
  },
  {
   "cell_type": "code",
   "execution_count": 42,
   "metadata": {},
   "outputs": [
    {
     "name": "stdout",
     "output_type": "stream",
     "text": [
      "Class 0 (sadness): 'feel' (0.0362) 'feeling' (0.0167) 'like' (0.0095) 'im' (0.0075) 'feel like' (0.0057) \n",
      "Class 1 (joy): 'feel' (0.0368) 'feeling' (0.0144) 'like' (0.0094) 'im' (0.0075) 'feel like' (0.0058) \n",
      "Class 2 (love): 'feel' (0.0221) 'feeling' (0.0090) 'like' (0.0073) 'im' (0.0046) 'feel like' (0.0044) \n",
      "Class 3 (anger): 'feel' (0.0270) 'feeling' (0.0134) 'like' (0.0071) 'im' (0.0063) 'feel like' (0.0047) \n",
      "Class 4 (fear): 'feel' (0.0241) 'feeling' (0.0148) 'im' (0.0064) 'like' (0.0051) 'just' (0.0034) \n",
      "Class 5 (surprise): 'feel' (0.0121) 'feeling' (0.0071) 'im' (0.0031) 'like' (0.0031) 'amazed' (0.0023) \n"
     ]
    }
   ],
   "source": [
    "feature_names = vectorizer.get_feature_names_out()\n",
    "class_log_probabilities = nb.feature_log_prob_\n",
    "class_names = ['sadness', 'joy', 'love', 'anger', 'fear', 'surprise']\n",
    "\n",
    "for i, class_probabilities in enumerate(class_log_probabilities):\n",
    "    # sort features by their log prob\n",
    "    sorted_features = np.argsort(class_probabilities)\n",
    "    \n",
    "    # get the top n feature\n",
    "    top_features = sorted_features[-5:][::-1]\n",
    "    top_scores = class_probabilities[top_features]\n",
    "    top_scores = np.exp(top_scores)\n",
    "    top_feature_names = feature_names[top_features]\n",
    "    \n",
    "    print(f\"Class {i} ({class_names[i]}):\", end=' ')\n",
    "    for feature_name, score in zip(top_feature_names, top_scores):\n",
    "        print(f\"'{feature_name}' ({score:.4f})\", end=' ')\n",
    "    print()\n"
   ]
  },
  {
   "cell_type": "markdown",
   "metadata": {},
   "source": [
    "- the relatively small differences in probabilities between the same words across classes suggest that there is a significant overlap in how these words are used to express different emotions\n",
    "- the presence of certain words with unique associations to an emotion (like 'amazed' for surprise) could be more discriminative and valuable for the classification task"
   ]
  },
  {
   "cell_type": "code",
   "execution_count": null,
   "metadata": {},
   "outputs": [],
   "source": []
  }
 ],
 "metadata": {
  "kernelspec": {
   "display_name": "a3-comp551",
   "language": "python",
   "name": "python3"
  },
  "language_info": {
   "codemirror_mode": {
    "name": "ipython",
    "version": 3
   },
   "file_extension": ".py",
   "mimetype": "text/x-python",
   "name": "python",
   "nbconvert_exporter": "python",
   "pygments_lexer": "ipython3",
   "version": "3.11.5"
  }
 },
 "nbformat": 4,
 "nbformat_minor": 2
}
