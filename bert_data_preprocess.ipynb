{
 "cells": [
  {
   "cell_type": "code",
   "execution_count": 1,
   "metadata": {},
   "outputs": [
    {
     "name": "stderr",
     "output_type": "stream",
     "text": [
      "/Users/rishabhthaney/.pyenv/versions/3.11.6/lib/python3.11/site-packages/tqdm/auto.py:21: TqdmWarning: IProgress not found. Please update jupyter and ipywidgets. See https://ipywidgets.readthedocs.io/en/stable/user_install.html\n",
      "  from .autonotebook import tqdm as notebook_tqdm\n"
     ]
    }
   ],
   "source": [
    "from transformers import BertTokenizer\n",
    "from datasets import load_dataset\n",
    "import torch"
   ]
  },
  {
   "cell_type": "code",
   "execution_count": 9,
   "metadata": {},
   "outputs": [],
   "source": [
    "# Load the 'dair-ai/emotion' dataset\n",
    "dataset = load_dataset('dair-ai/emotion')\n",
    "\n",
    "print(dataset.items())\n",
    "\n",
    "# Initialize the BERT tokenizer\n",
    "tokenizer = BertTokenizer.from_pretrained('bert-base-uncased')\n"
   ]
  },
  {
   "cell_type": "code",
   "execution_count": 21,
   "metadata": {},
   "outputs": [],
   "source": [
    "# Tokenize and convert the dataset into numerical features\n",
    "tokenized_dataset = dataset.map(\n",
    "    lambda examples: tokenizer(examples['text'], padding='max_length', truncation=True, max_length=128),\n",
    "    batched=True\n",
    ")\n"
   ]
  },
  {
   "cell_type": "code",
   "execution_count": 32,
   "metadata": {},
   "outputs": [
    {
     "name": "stdout",
     "output_type": "stream",
     "text": [
      "tensor([0, 0, 3,  ..., 1, 3, 0])\n"
     ]
    }
   ],
   "source": [
    "# Extract input tensors for 'train'\n",
    "train_dataset = tokenized_dataset['train']\n",
    "input_ids_train = torch.tensor(train_dataset['input_ids'])\n",
    "attention_mask_train = torch.tensor(train_dataset['attention_mask'])\n",
    "labels_train = torch.tensor(train_dataset['label'])\n",
    "\n",
    "print(labels_train)"
   ]
  },
  {
   "cell_type": "code",
   "execution_count": 33,
   "metadata": {},
   "outputs": [
    {
     "name": "stdout",
     "output_type": "stream",
     "text": [
      "tensor([0, 0, 0,  ..., 1, 1, 4])\n"
     ]
    }
   ],
   "source": [
    "# Extract input tensors for 'test'\n",
    "test_dataset = tokenized_dataset['test']\n",
    "input_ids_test = torch.tensor(test_dataset['input_ids'])\n",
    "attention_mask_test = torch.tensor(test_dataset['attention_mask'])\n",
    "labels_test = torch.tensor(test_dataset['label'])\n",
    "\n",
    "print(labels_test)"
   ]
  }
 ],
 "metadata": {
  "kernelspec": {
   "display_name": "Python 3",
   "language": "python",
   "name": "python3"
  },
  "language_info": {
   "codemirror_mode": {
    "name": "ipython",
    "version": 3
   },
   "file_extension": ".py",
   "mimetype": "text/x-python",
   "name": "python",
   "nbconvert_exporter": "python",
   "pygments_lexer": "ipython3",
   "version": "3.11.6"
  },
  "orig_nbformat": 4
 },
 "nbformat": 4,
 "nbformat_minor": 2
}
